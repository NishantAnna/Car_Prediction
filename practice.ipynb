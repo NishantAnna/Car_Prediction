{
 "cells": [
  {
   "cell_type": "code",
   "execution_count": null,
   "id": "39d14cb2",
   "metadata": {},
   "outputs": [],
   "source": [
    "def add_two_num(a,b):\n",
    "    return a+b"
   ]
  },
  {
   "cell_type": "code",
   "execution_count": null,
   "id": "12cc1803",
   "metadata": {},
   "outputs": [],
   "source": []
  }
 ],
 "metadata": {
  "language_info": {
   "name": "python"
  }
 },
 "nbformat": 4,
 "nbformat_minor": 5
}
